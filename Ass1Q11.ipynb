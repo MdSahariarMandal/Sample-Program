{
  "nbformat": 4,
  "nbformat_minor": 0,
  "metadata": {
    "colab": {
      "provenance": [],
      "authorship_tag": "ABX9TyMQz7ATJRZatYXi26rFPGqw",
      "include_colab_link": true
    },
    "kernelspec": {
      "name": "python3",
      "display_name": "Python 3"
    },
    "language_info": {
      "name": "python"
    },
    "gpuClass": "standard"
  },
  "cells": [
    {
      "cell_type": "markdown",
      "metadata": {
        "id": "view-in-github",
        "colab_type": "text"
      },
      "source": [
        "<a href=\"https://colab.research.google.com/github/Savageguy007/Sample-Program/blob/main/Ass1Q11.ipynb\" target=\"_parent\"><img src=\"https://colab.research.google.com/assets/colab-badge.svg\" alt=\"Open In Colab\"/></a>"
      ]
    },
    {
      "cell_type": "code",
      "execution_count": 6,
      "metadata": {
        "colab": {
          "base_uri": "https://localhost:8080/",
          "height": 296
        },
        "id": "9lLp24WV3-2h",
        "outputId": "bfb5c087-f4b8-4f1f-a7e3-303ef9c90c0f"
      },
      "outputs": [
        {
          "output_type": "execute_result",
          "data": {
            "text/plain": [
              "<matplotlib.collections.PathCollection at 0x7f90cc8f4cd0>"
            ]
          },
          "metadata": {},
          "execution_count": 6
        },
        {
          "output_type": "display_data",
          "data": {
            "text/plain": [
              "<Figure size 432x288 with 1 Axes>"
            ],
            "image/png": "[encoded data removed]"
          },
          "metadata": {
            "needs_background": "light"
          }
        }
      ],
      "source": [
        "import matplotlib.pyplot as plt\n",
        "max= [17, 19, 21, 28, 33, 38, 37, 37, 31, 23, 19, 18]\n",
        "min= [-62, -59, -56, -46, -32, -18, -9, -13, -25, -46, -52, -58]\n",
        "month=['January','February','March','April','May','June','July','August','September','October','November','December']\n",
        "plt.xlabel(\"Months\")\n",
        "plt.ylabel(\"Max & Min\")\n",
        "plt.scatter(month,max)\n",
        "plt.scatter(month,min)\n"
      ]
    }
  ]
}